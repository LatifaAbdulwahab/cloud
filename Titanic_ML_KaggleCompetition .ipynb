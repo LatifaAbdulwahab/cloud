{
  "nbformat": 4,
  "nbformat_minor": 0,
  "metadata": {
    "colab": {
      "provenance": [],
      "authorship_tag": "ABX9TyMaNk75QOQ1plmfbNB+7cut",
      "include_colab_link": true
    },
    "kernelspec": {
      "name": "python3",
      "display_name": "Python 3"
    },
    "language_info": {
      "name": "python"
    }
  },
  "cells": [
    {
      "cell_type": "markdown",
      "metadata": {
        "id": "view-in-github",
        "colab_type": "text"
      },
      "source": [
        "<a href=\"https://colab.research.google.com/github/LatifaAbdulwahab/cloud/blob/main/Titanic_ML_KaggleCompetition%20.ipynb\" target=\"_parent\"><img src=\"https://colab.research.google.com/assets/colab-badge.svg\" alt=\"Open In Colab\"/></a>"
      ]
    },
    {
      "cell_type": "markdown",
      "source": [
        "**Import libraries and data set**"
      ],
      "metadata": {
        "id": "_HsDmBsUIbJu"
      }
    },
    {
      "cell_type": "code",
      "execution_count": 2,
      "metadata": {
        "id": "qd0Io9teBpc5"
      },
      "outputs": [],
      "source": [
        "import numpy as np\n",
        "import pandas as pd\n",
        "import matplotlib.pyplot as plt\n",
        "import seaborn as sns\n",
        "\n",
        "titanic_data = pd.read_csv('train.csv')"
      ]
    },
    {
      "cell_type": "code",
      "source": [
        "print(titanic_data.head(88)) #display the first few rows of the titanic_data\n"
      ],
      "metadata": {
        "colab": {
          "base_uri": "https://localhost:8080/"
        },
        "id": "IJMzBjFHIPng",
        "outputId": "9a30bfa2-ed3b-40cf-bc52-c2c03bc00db1"
      },
      "execution_count": 3,
      "outputs": [
        {
          "output_type": "stream",
          "name": "stdout",
          "text": [
            "    PassengerId  Survived  Pclass  \\\n",
            "0             1         0       3   \n",
            "1             2         1       1   \n",
            "2             3         1       3   \n",
            "3             4         1       1   \n",
            "4             5         0       3   \n",
            "..          ...       ...     ...   \n",
            "83           84         0       1   \n",
            "84           85         1       2   \n",
            "85           86         1       3   \n",
            "86           87         0       3   \n",
            "87           88         0       3   \n",
            "\n",
            "                                                 Name     Sex   Age  SibSp  \\\n",
            "0                             Braund, Mr. Owen Harris    male  22.0      1   \n",
            "1   Cumings, Mrs. John Bradley (Florence Briggs Th...  female  38.0      1   \n",
            "2                              Heikkinen, Miss. Laina  female  26.0      0   \n",
            "3        Futrelle, Mrs. Jacques Heath (Lily May Peel)  female  35.0      1   \n",
            "4                            Allen, Mr. William Henry    male  35.0      0   \n",
            "..                                                ...     ...   ...    ...   \n",
            "83                            Carrau, Mr. Francisco M    male  28.0      0   \n",
            "84                                Ilett, Miss. Bertha  female  17.0      0   \n",
            "85  Backstrom, Mrs. Karl Alfred (Maria Mathilda Gu...  female  33.0      3   \n",
            "86                             Ford, Mr. William Neal    male  16.0      1   \n",
            "87                      Slocovski, Mr. Selman Francis    male   NaN      0   \n",
            "\n",
            "    Parch            Ticket     Fare Cabin Embarked  \n",
            "0       0         A/5 21171   7.2500   NaN        S  \n",
            "1       0          PC 17599  71.2833   C85        C  \n",
            "2       0  STON/O2. 3101282   7.9250   NaN        S  \n",
            "3       0            113803  53.1000  C123        S  \n",
            "4       0            373450   8.0500   NaN        S  \n",
            "..    ...               ...      ...   ...      ...  \n",
            "83      0            113059  47.1000   NaN        S  \n",
            "84      0        SO/C 14885  10.5000   NaN        S  \n",
            "85      0           3101278  15.8500   NaN        S  \n",
            "86      3        W./C. 6608  34.3750   NaN        S  \n",
            "87      0   SOTON/OQ 392086   8.0500   NaN        S  \n",
            "\n",
            "[88 rows x 12 columns]\n"
          ]
        }
      ]
    },
    {
      "cell_type": "code",
      "source": [
        "print(titanic_data.describe()) #used to display a summary of descriptive statistics, It provides information such as count, mean, standard deviation, minimum, quartiles, and maximum values for each column in the DataFrame.\n"
      ],
      "metadata": {
        "colab": {
          "base_uri": "https://localhost:8080/"
        },
        "id": "QFQZrYbxITDW",
        "outputId": "426d1c6b-3707-4da7-d468-04b4bedd2d27"
      },
      "execution_count": 4,
      "outputs": [
        {
          "output_type": "stream",
          "name": "stdout",
          "text": [
            "       PassengerId    Survived      Pclass         Age       SibSp  \\\n",
            "count   891.000000  891.000000  891.000000  714.000000  891.000000   \n",
            "mean    446.000000    0.383838    2.308642   29.699118    0.523008   \n",
            "std     257.353842    0.486592    0.836071   14.526497    1.102743   \n",
            "min       1.000000    0.000000    1.000000    0.420000    0.000000   \n",
            "25%     223.500000    0.000000    2.000000   20.125000    0.000000   \n",
            "50%     446.000000    0.000000    3.000000   28.000000    0.000000   \n",
            "75%     668.500000    1.000000    3.000000   38.000000    1.000000   \n",
            "max     891.000000    1.000000    3.000000   80.000000    8.000000   \n",
            "\n",
            "            Parch        Fare  \n",
            "count  891.000000  891.000000  \n",
            "mean     0.381594   32.204208  \n",
            "std      0.806057   49.693429  \n",
            "min      0.000000    0.000000  \n",
            "25%      0.000000    7.910400  \n",
            "50%      0.000000   14.454200  \n",
            "75%      0.000000   31.000000  \n",
            "max      6.000000  512.329200  \n"
          ]
        }
      ]
    },
    {
      "cell_type": "code",
      "source": [
        "titanic_data.info()\n"
      ],
      "metadata": {
        "colab": {
          "base_uri": "https://localhost:8080/"
        },
        "id": "IUWIhfSUMIWY",
        "outputId": "49ae6291-f4fb-48a4-be65-0dcdd1e4a158"
      },
      "execution_count": 6,
      "outputs": [
        {
          "output_type": "stream",
          "name": "stdout",
          "text": [
            "<class 'pandas.core.frame.DataFrame'>\n",
            "RangeIndex: 891 entries, 0 to 890\n",
            "Data columns (total 12 columns):\n",
            " #   Column       Non-Null Count  Dtype  \n",
            "---  ------       --------------  -----  \n",
            " 0   PassengerId  891 non-null    int64  \n",
            " 1   Survived     891 non-null    int64  \n",
            " 2   Pclass       891 non-null    int64  \n",
            " 3   Name         891 non-null    object \n",
            " 4   Sex          891 non-null    object \n",
            " 5   Age          714 non-null    float64\n",
            " 6   SibSp        891 non-null    int64  \n",
            " 7   Parch        891 non-null    int64  \n",
            " 8   Ticket       891 non-null    object \n",
            " 9   Fare         891 non-null    float64\n",
            " 10  Cabin        204 non-null    object \n",
            " 11  Embarked     889 non-null    object \n",
            "dtypes: float64(2), int64(5), object(5)\n",
            "memory usage: 83.7+ KB\n"
          ]
        }
      ]
    },
    {
      "cell_type": "markdown",
      "source": [
        "**Find Correlation**"
      ],
      "metadata": {
        "id": "lj6bEMc5MRp-"
      }
    },
    {
      "cell_type": "code",
      "source": [
        "# Select numeric columns and create correlation heatmap\n",
        "numeric_columns = titanic_data.select_dtypes(include=np.number)\n",
        "sns.heatmap(numeric_columns.corr(), cmap=\"RdYlGn\", annot=True,fmt=\".1f\",linewidth=1,vmin=-1,vmax=1)"
      ],
      "metadata": {
        "colab": {
          "base_uri": "https://localhost:8080/",
          "height": 522
        },
        "id": "8cCb1XMUMPwX",
        "outputId": "42bda7ac-0ac7-4859-e26f-74f0a0d9d50b"
      },
      "execution_count": 8,
      "outputs": [
        {
          "output_type": "execute_result",
          "data": {
            "text/plain": [
              "<Axes: >"
            ]
          },
          "metadata": {},
          "execution_count": 8
        },
        {
          "output_type": "display_data",
          "data": {
            "text/plain": [
              "<Figure size 640x480 with 2 Axes>"
            ],
            "image/png": "[encoded data removed]"
          },
          "metadata": {}
        }
      ]
    },
    {
      "cell_type": "code",
      "source": [
        "#StratifiedShuffleSplit is used for creating train/test splits while maintaining the class distribution of the target variable.\n",
        "from sklearn.model_selection import StratifiedShuffleSplit\n",
        "\n",
        "#split is an instance of StratifiedShuffleSplit. n_splits=1: Specifies that we want to create only one train/test split.\n",
        "#test_size=0.2: Indicates that 20% of the data will be used for testing\n",
        "split = StratifiedShuffleSplit(n_splits=1, test_size=0.2)\n",
        "#generate train/test indices based on the specified columns (\"Survived\", \"Pclass\", and \"Sex\") from the titanic_data\n",
        "for train_indices, test_indices in split.split(titanic_data, titanic_data[[\"Survived\", \"Pclass\", \"Sex\"]]):\n",
        "    strat_train_set = titanic_data.loc[train_indices]\n",
        "    strat_test_set = titanic_data.loc[test_indices]\n",
        "\n",
        "    print(strat_test_set)"
      ],
      "metadata": {
        "colab": {
          "base_uri": "https://localhost:8080/"
        },
        "id": "onsAB8MwVADs",
        "outputId": "5dae1027-1be0-4e27-fa1e-51385d706367"
      },
      "execution_count": 9,
      "outputs": [
        {
          "output_type": "stream",
          "name": "stdout",
          "text": [
            "     PassengerId  Survived  Pclass  \\\n",
            "587          588         1       1   \n",
            "50            51         0       3   \n",
            "252          253         0       1   \n",
            "74            75         1       3   \n",
            "563          564         0       3   \n",
            "..           ...       ...     ...   \n",
            "49            50         0       3   \n",
            "124          125         0       1   \n",
            "355          356         0       3   \n",
            "796          797         1       1   \n",
            "777          778         1       3   \n",
            "\n",
            "                                              Name     Sex   Age  SibSp  \\\n",
            "587               Frolicher-Stehli, Mr. Maxmillian    male  60.0      1   \n",
            "50                      Panula, Master. Juha Niilo    male   7.0      4   \n",
            "252                      Stead, Mr. William Thomas    male  62.0      0   \n",
            "74                                   Bing, Mr. Lee    male  32.0      0   \n",
            "563                              Simmons, Mr. John    male   NaN      0   \n",
            "..                                             ...     ...   ...    ...   \n",
            "49   Arnold-Franchi, Mrs. Josef (Josefine Franchi)  female  18.0      1   \n",
            "124                    White, Mr. Percival Wayland    male  54.0      0   \n",
            "355                    Vanden Steen, Mr. Leo Peter    male  28.0      0   \n",
            "796                    Leader, Dr. Alice (Farnham)  female  49.0      0   \n",
            "777                  Emanuel, Miss. Virginia Ethel  female   5.0      0   \n",
            "\n",
            "     Parch           Ticket     Fare Cabin Embarked  \n",
            "587      1            13567  79.2000   B41        C  \n",
            "50       1          3101295  39.6875   NaN        S  \n",
            "252      0           113514  26.5500   C87        S  \n",
            "74       0             1601  56.4958   NaN        S  \n",
            "563      0  SOTON/OQ 392082   8.0500   NaN        S  \n",
            "..     ...              ...      ...   ...      ...  \n",
            "49       0           349237  17.8000   NaN        S  \n",
            "124      1            35281  77.2875   D26        S  \n",
            "355      0           345783   9.5000   NaN        S  \n",
            "796      0            17465  25.9292   D17        S  \n",
            "777      0           364516  12.4750   NaN        S  \n",
            "\n",
            "[179 rows x 12 columns]\n"
          ]
        }
      ]
    },
    {
      "cell_type": "markdown",
      "source": [
        "visualizes the distribution of the 'Survived' and 'Pclass' columns in both the training and testing sets using histograms. The first subplot shows the histograms for the training set, while the second subplot shows the histograms for the testing set, with different colors for clarity.\n"
      ],
      "metadata": {
        "id": "qN1Lx_a_V0UP"
      }
    },
    {
      "cell_type": "code",
      "source": [
        "#Left\n",
        "plt.subplot(1,2,1)\n",
        "strat_train_set['Survived'].hist() #Blue color\n",
        "strat_train_set['Pclass'].hist() #Orange color\n",
        "\n",
        "#Right\n",
        "plt.subplot(1,2,2)\n",
        "strat_test_set['Survived'].hist() #Blue color\n",
        "strat_test_set['Pclass'].hist() #Orange color\n"
      ],
      "metadata": {
        "colab": {
          "base_uri": "https://localhost:8080/",
          "height": 447
        },
        "id": "6K4tVMGcVGoT",
        "outputId": "b0ee997f-89c2-4ae8-88c7-35ee9271e2dc"
      },
      "execution_count": 13,
      "outputs": [
        {
          "output_type": "execute_result",
          "data": {
            "text/plain": [
              "<Axes: >"
            ]
          },
          "metadata": {},
          "execution_count": 13
        },
        {
          "output_type": "display_data",
          "data": {
            "text/plain": [
              "<Figure size 640x480 with 2 Axes>"
            ],
            "image/png": "[encoded data removed]"
          },
          "metadata": {}
        }
      ]
    },
    {
      "cell_type": "code",
      "source": [
        "print(strat_train_set.info()) #to see if there are missing value on new train split\n"
      ],
      "metadata": {
        "colab": {
          "base_uri": "https://localhost:8080/"
        },
        "id": "qvQ9tAUSXTMV",
        "outputId": "79e82b97-5fa3-4412-cbc0-e148c3e4a8ca"
      },
      "execution_count": 14,
      "outputs": [
        {
          "output_type": "stream",
          "name": "stdout",
          "text": [
            "<class 'pandas.core.frame.DataFrame'>\n",
            "Index: 712 entries, 204 to 338\n",
            "Data columns (total 12 columns):\n",
            " #   Column       Non-Null Count  Dtype  \n",
            "---  ------       --------------  -----  \n",
            " 0   PassengerId  712 non-null    int64  \n",
            " 1   Survived     712 non-null    int64  \n",
            " 2   Pclass       712 non-null    int64  \n",
            " 3   Name         712 non-null    object \n",
            " 4   Sex          712 non-null    object \n",
            " 5   Age          572 non-null    float64\n",
            " 6   SibSp        712 non-null    int64  \n",
            " 7   Parch        712 non-null    int64  \n",
            " 8   Ticket       712 non-null    object \n",
            " 9   Fare         712 non-null    float64\n",
            " 10  Cabin        161 non-null    object \n",
            " 11  Embarked     711 non-null    object \n",
            "dtypes: float64(2), int64(5), object(5)\n",
            "memory usage: 72.3+ KB\n",
            "None\n"
          ]
        }
      ]
    },
    {
      "cell_type": "code",
      "source": [
        "print(strat_test_set.info()) #to see if there are missing value on new test split\n"
      ],
      "metadata": {
        "colab": {
          "base_uri": "https://localhost:8080/"
        },
        "id": "nyxAHnOtXwPG",
        "outputId": "889d704b-2769-4284-a32d-2f6a046d76bd"
      },
      "execution_count": 15,
      "outputs": [
        {
          "output_type": "stream",
          "name": "stdout",
          "text": [
            "<class 'pandas.core.frame.DataFrame'>\n",
            "Index: 179 entries, 587 to 777\n",
            "Data columns (total 12 columns):\n",
            " #   Column       Non-Null Count  Dtype  \n",
            "---  ------       --------------  -----  \n",
            " 0   PassengerId  179 non-null    int64  \n",
            " 1   Survived     179 non-null    int64  \n",
            " 2   Pclass       179 non-null    int64  \n",
            " 3   Name         179 non-null    object \n",
            " 4   Sex          179 non-null    object \n",
            " 5   Age          142 non-null    float64\n",
            " 6   SibSp        179 non-null    int64  \n",
            " 7   Parch        179 non-null    int64  \n",
            " 8   Ticket       179 non-null    object \n",
            " 9   Fare         179 non-null    float64\n",
            " 10  Cabin        43 non-null     object \n",
            " 11  Embarked     178 non-null    object \n",
            "dtypes: float64(2), int64(5), object(5)\n",
            "memory usage: 18.2+ KB\n",
            "None\n"
          ]
        }
      ]
    },
    {
      "cell_type": "code",
      "source": [
        "#transform and fill null data\n",
        "from sklearn.base import BaseEstimator, TransformerMixin\n",
        "from sklearn.impute import SimpleImputer\n",
        "#BaseEstimator: Base class for all estimators in scikit-learn. It provides default implementations for get_params() and set_params() methods.\n",
        "#TransformerMixin: Mixin class for transformers in scikit-learn. It provides default implementations for fit_transform() method.\n",
        "\n",
        "class AgeImputer(BaseEstimator, TransformerMixin):\n",
        "    def fit(self, X, y=None):\n",
        "        # For transformers, the AgeImputer method does nothing but return self\n",
        "        return self\n",
        "\n",
        "    def transform(self, X):\n",
        "        # Create a SimpleImputer object with the mean strategy\n",
        "        imputer = SimpleImputer(strategy=\"mean\")\n",
        "\n",
        "        # Use fit_transform on the 'Age' column to impute missing values with the mean\n",
        "        # This modifies the 'Age' column in place and replaces missing values with the mean\n",
        "        X['Age'] = imputer.fit_transform(X[['Age']])\n",
        "\n",
        "        # Return the modified DataFrame with imputed 'Age' column\n",
        "        return X\n"
      ],
      "metadata": {
        "id": "5j6GJ-bJX5b3"
      },
      "execution_count": 65,
      "outputs": []
    },
    {
      "cell_type": "code",
      "source": [
        "#seperate some previous columns to create new columns\n",
        "from sklearn.preprocessing import OneHotEncoder\n",
        "\n",
        "class FeatureEncoder(BaseEstimator, TransformerMixin):\n",
        "\n",
        "    def fit(self, X, y=None):\n",
        "        return self\n",
        "\n",
        "    def transform(self, X):\n",
        "        encoder = OneHotEncoder()\n",
        "\n",
        "        # Encode 'Embarked' => to be 3 columns\n",
        "        matrix = encoder.fit_transform(X[['Embarked']]).toarray()\n",
        "        column_names = [\"C\",\"S\",\"Q\",\"N\"]\n",
        "        for i in range(len(matrix.T)):\n",
        "            X[column_names[i]] = matrix.T[i]\n",
        "\n",
        "        # Encode 'Sex' => to be 2 columns\n",
        "        sex_df = pd.DataFrame(X['Sex'])  # Reshape 'Sex' to a DataFrame with a single column\n",
        "        matrix = encoder.fit_transform(sex_df).toarray()\n",
        "        column_names = [\"Female\",\"Male\"]\n",
        "        for i in range(len(matrix.T)):\n",
        "            X[column_names[i]] = matrix.T[i]\n",
        "\n",
        "   # Calculate family size based on 'SibSp' and 'Parch' columns\n",
        "        for index, row in X.iterrows():\n",
        "             X.at[index, 'FamilySize'] = row['SibSp'] + row['Parch'] + 1  # Adding 1 for the person itself\n",
        "\n",
        "        return X\n",
        "\n"
      ],
      "metadata": {
        "id": "AYmyEx44kC84"
      },
      "execution_count": 70,
      "outputs": []
    },
    {
      "cell_type": "code",
      "source": [
        "#drop some features that are not important\n",
        "class FeatureDropper(BaseEstimator, TransformerMixin):\n",
        "\n",
        "    def fit(self, X, y=None):\n",
        "        return self\n",
        "\n",
        "    def transform(self, X):\n",
        "        return X.drop([\"Embarked\",\"Name\",\"Ticket\",\"Cabin\",\"Sex\",\"N\",\"SibSp\",\"Parch\"], axis=1, errors=\"ignore\" )\n",
        "#drop all original columns before encode\n",
        "# N here is column add when encode Embarked (N is column represent null values in Embarked)\n",
        "\n"
      ],
      "metadata": {
        "id": "_keVfk_AkhhZ"
      },
      "execution_count": 71,
      "outputs": []
    },
    {
      "cell_type": "code",
      "source": [
        "from sklearn.pipeline import Pipeline\n",
        "\n",
        "pipeline = Pipeline([(\"ageimputer\", AgeImputer()),\n",
        "                     (\"featureencoder\", FeatureEncoder()),\n",
        "                     (\"featuredropper\", FeatureDropper())])\n"
      ],
      "metadata": {
        "id": "b2tpOHj0m9Gs"
      },
      "execution_count": 72,
      "outputs": []
    },
    {
      "cell_type": "code",
      "source": [
        "\n",
        "strat_train_set = pipeline.fit_transform(strat_train_set)\n",
        "strat_train_set.drop([\"Embarked\",\"Name\",\"Ticket\",\"Cabin\",\"Sex\",\"N\",\"SibSp\",\"Parch\"], axis=1, errors=\"ignore\" )\n",
        "print(strat_train_set)\n",
        "print(strat_train_set.info()) #now there is no null value\n"
      ],
      "metadata": {
        "colab": {
          "base_uri": "https://localhost:8080/"
        },
        "id": "A87m3igWnzxJ",
        "outputId": "d794c58a-df63-408b-9d10-bba90178f4f9"
      },
      "execution_count": 82,
      "outputs": [
        {
          "output_type": "stream",
          "name": "stdout",
          "text": [
            "     PassengerId  Survived  Pclass        Age      Fare    C    S    Q  \\\n",
            "204          205         1       3  18.000000    8.0500  0.0  0.0  1.0   \n",
            "398          399         0       2  23.000000   10.5000  0.0  0.0  1.0   \n",
            "570          571         1       2  62.000000   10.5000  0.0  0.0  1.0   \n",
            "27            28         0       1  19.000000  263.0000  0.0  0.0  1.0   \n",
            "177          178         0       1  50.000000   28.7125  1.0  0.0  0.0   \n",
            "..           ...       ...     ...        ...       ...  ...  ...  ...   \n",
            "630          631         1       1  80.000000   30.0000  0.0  0.0  1.0   \n",
            "375          376         1       1  29.868601   82.1708  1.0  0.0  0.0   \n",
            "220          221         1       3  16.000000    8.0500  0.0  0.0  1.0   \n",
            "186          187         1       3  29.868601   15.5000  0.0  1.0  0.0   \n",
            "338          339         1       3  45.000000    8.0500  0.0  0.0  1.0   \n",
            "\n",
            "     Female  Male  FamilySize  \n",
            "204     0.0   1.0         1.0  \n",
            "398     0.0   1.0         1.0  \n",
            "570     0.0   1.0         1.0  \n",
            "27      0.0   1.0         6.0  \n",
            "177     1.0   0.0         1.0  \n",
            "..      ...   ...         ...  \n",
            "630     0.0   1.0         1.0  \n",
            "375     1.0   0.0         2.0  \n",
            "220     0.0   1.0         1.0  \n",
            "186     1.0   0.0         2.0  \n",
            "338     0.0   1.0         1.0  \n",
            "\n",
            "[712 rows x 11 columns]\n",
            "<class 'pandas.core.frame.DataFrame'>\n",
            "Index: 712 entries, 204 to 338\n",
            "Data columns (total 11 columns):\n",
            " #   Column       Non-Null Count  Dtype  \n",
            "---  ------       --------------  -----  \n",
            " 0   PassengerId  712 non-null    int64  \n",
            " 1   Survived     712 non-null    int64  \n",
            " 2   Pclass       712 non-null    int64  \n",
            " 3   Age          712 non-null    float64\n",
            " 4   Fare         712 non-null    float64\n",
            " 5   C            712 non-null    float64\n",
            " 6   S            712 non-null    float64\n",
            " 7   Q            712 non-null    float64\n",
            " 8   Female       712 non-null    float64\n",
            " 9   Male         712 non-null    float64\n",
            " 10  FamilySize   712 non-null    float64\n",
            "dtypes: float64(8), int64(3)\n",
            "memory usage: 82.9 KB\n",
            "None\n"
          ]
        }
      ]
    },
    {
      "cell_type": "code",
      "source": [
        "print(strat_train_set.describe())"
      ],
      "metadata": {
        "colab": {
          "base_uri": "https://localhost:8080/"
        },
        "id": "dHtIDtBnxs8l",
        "outputId": "1efbcc1b-a071-4b27-8a05-9c4cf3668430"
      },
      "execution_count": 83,
      "outputs": [
        {
          "output_type": "stream",
          "name": "stdout",
          "text": [
            "       PassengerId    Survived      Pclass         Age        Fare  \\\n",
            "count   712.000000  712.000000  712.000000  712.000000  712.000000   \n",
            "mean    437.967697    0.384831    2.308989   29.868601   32.101047   \n",
            "std     256.852840    0.486897    0.835249   12.718789   50.372852   \n",
            "min       1.000000    0.000000    1.000000    0.420000    0.000000   \n",
            "25%     211.750000    0.000000    2.000000   22.000000    7.925000   \n",
            "50%     443.500000    0.000000    3.000000   29.868601   14.427100   \n",
            "75%     653.250000    1.000000    3.000000   35.000000   31.000000   \n",
            "max     890.000000    1.000000    3.000000   80.000000  512.329200   \n",
            "\n",
            "                C           S           Q      Female        Male  FamilySize  \n",
            "count  712.000000  712.000000  712.000000  712.000000  712.000000  712.000000  \n",
            "mean     0.193820    0.082865    0.721910    0.351124    0.648876    1.905899  \n",
            "std      0.395568    0.275872    0.448373    0.477657    0.477657    1.644449  \n",
            "min      0.000000    0.000000    0.000000    0.000000    0.000000    1.000000  \n",
            "25%      0.000000    0.000000    0.000000    0.000000    0.000000    1.000000  \n",
            "50%      0.000000    0.000000    1.000000    0.000000    1.000000    1.000000  \n",
            "75%      0.000000    0.000000    1.000000    1.000000    1.000000    2.000000  \n",
            "max      1.000000    1.000000    1.000000    1.000000    1.000000   11.000000  \n"
          ]
        }
      ]
    },
    {
      "cell_type": "code",
      "source": [
        "from sklearn.preprocessing import StandardScaler\n",
        "#x, y are new data after change the columns\n",
        "X = strat_train_set.drop(['Survived'], axis=1)\n",
        "y = strat_train_set['Survived']\n",
        "#mean of each feature is subtracted and then divided by the standard deviation.\n",
        "#This process ensures that the features have a mean of 0 and a standard deviation of 1\n",
        "scaler = StandardScaler()\n",
        "#This method fits the scaler to the data (X), computing the mean and standard deviation of each feature.\n",
        "X_data = scaler.fit_transform(X)\n",
        "#convert y to a NumPy array format, making it compatible with scikit-learn's algorithms.\n",
        "y_data = y.to_numpy()\n"
      ],
      "metadata": {
        "id": "qEq469uJyDtd"
      },
      "execution_count": 84,
      "outputs": []
    },
    {
      "cell_type": "code",
      "source": [
        "#training\n",
        "#also DecisionTreeClassifier work\n",
        "#from sklearn.tree import DecisionTreeClassifier\n",
        "from sklearn.ensemble import RandomForestClassifier\n",
        "from sklearn.model_selection import GridSearchCV #to validate (cross validation)\n",
        "\n",
        "clf = RandomForestClassifier()\n",
        "\n",
        "param_grid = [\n",
        "    {\"n_estimators\": [10, 100, 200, 500], \"max_depth\": [None, 5, 10], \"min_samples_split\": [2, 3, 4]}\n",
        "]\n",
        "\n",
        "grid_search = GridSearchCV(clf, param_grid, cv=3, scoring=\"accuracy\", return_train_score=True)\n",
        "grid_search.fit(X_data, y_data)\n",
        "#print(grid_search.fit(X_data, y_data))\n",
        "\n",
        "final_clf = grid_search.best_estimator_\n",
        "#print(final_clf)\n",
        "\n",
        "X_test = strat_test_set.drop(['Survived'], axis=1)\n",
        "y_test = strat_test_set[\"Survived\"]\n",
        "\n",
        "scaler = StandardScaler()\n",
        "X_data_test = scaler.fit_transform(X_test)\n",
        "y_data_test = y_test.to_numpy()\n",
        "\n",
        "final_clf.score(X_data_test, y_data_test)\n",
        "\n",
        "print(final_clf.score(X_data_test, y_data_test)) #the number of accuracy\n",
        "\n",
        "final_data = pipeline.fit_transform(titanic_data)\n",
        "print(final_data)\n",
        "\n",
        "X_final = final_data.drop(['Survived'], axis=1)\n",
        "y_final = final_data['Survived']\n",
        "\n",
        "scaler = StandardScaler()\n",
        "X_data_final = scaler.fit_transform(X_final)\n",
        "y_data_final = y_final.to_numpy()\n",
        "\n",
        "#production classifier\n",
        "prod_clf = RandomForestClassifier()\n",
        "\n",
        "param_grid = [\n",
        "    {\"n_estimators\": [10, 100, 200, 500], \"max_depth\": [None, 5, 10], \"min_samples_split\": [2, 3, 4]}\n",
        "]\n",
        "\n",
        "grid_search = GridSearchCV(prod_clf, param_grid, cv=3, scoring=\"accuracy\", return_train_score=True)\n",
        "grid_search.fit(X_data_final, y_data_final)\n",
        "\n",
        "print(grid_search.fit(X_data_final, y_data_final))\n",
        "\n",
        "prod_final_clf = grid_search.best_estimator_\n",
        "print(prod_final_clf)\n",
        "\n",
        "titanic_test_data = pd.read_csv(\"test.csv\")\n",
        "print(titanic_test_data)\n",
        "\n",
        "final_test_data = pipeline.fit_transform(titanic_test_data)\n",
        "print(final_test_data)\n",
        "\n",
        "#handle with null value in test data file\n",
        "X_final_test = final_test_data\n",
        "X_final_test = X_final_test.fillna(method=\"ffill\")\n",
        "\n",
        "scaler = StandardScaler()\n",
        "X_data_final_test = scaler.fit_transform(X_final_test)\n",
        "\n",
        "predictions = prod_final_clf.predict(X_data_final_test)\n",
        "print(predictions)\n",
        "\n",
        "#data frame\n",
        "final_df = pd.DataFrame(titanic_test_data['PassengerId'])\n",
        "final_df['Survived'] = predictions\n",
        "final_df.to_csv(\"predictions1.csv\", index=False)\n",
        "\n",
        "print(final_df)\n"
      ],
      "metadata": {
        "colab": {
          "base_uri": "https://localhost:8080/"
        },
        "id": "R4T9TcI6yxjz",
        "outputId": "d10ebe79-52c6-4f46-acf9-9c8d22333d94"
      },
      "execution_count": 92,
      "outputs": [
        {
          "output_type": "stream",
          "name": "stdout",
          "text": [
            "0.8581460674157303\n",
            "     PassengerId  Survived  Pclass        Age     Fare    C    S    Q  Female  \\\n",
            "0              1         0       3  22.000000   7.2500  0.0  0.0  1.0     0.0   \n",
            "1              2         1       1  38.000000  71.2833  1.0  0.0  0.0     1.0   \n",
            "2              3         1       3  26.000000   7.9250  0.0  0.0  1.0     1.0   \n",
            "3              4         1       1  35.000000  53.1000  0.0  0.0  1.0     1.0   \n",
            "4              5         0       3  35.000000   8.0500  0.0  0.0  1.0     0.0   \n",
            "..           ...       ...     ...        ...      ...  ...  ...  ...     ...   \n",
            "886          887         0       2  27.000000  13.0000  0.0  0.0  1.0     0.0   \n",
            "887          888         1       1  19.000000  30.0000  0.0  0.0  1.0     1.0   \n",
            "888          889         0       3  29.699118  23.4500  0.0  0.0  1.0     1.0   \n",
            "889          890         1       1  26.000000  30.0000  1.0  0.0  0.0     0.0   \n",
            "890          891         0       3  32.000000   7.7500  0.0  1.0  0.0     0.0   \n",
            "\n",
            "     Male  FamilySize  \n",
            "0     1.0         2.0  \n",
            "1     0.0         2.0  \n",
            "2     0.0         1.0  \n",
            "3     0.0         2.0  \n",
            "4     1.0         1.0  \n",
            "..    ...         ...  \n",
            "886   1.0         1.0  \n",
            "887   0.0         1.0  \n",
            "888   0.0         4.0  \n",
            "889   1.0         1.0  \n",
            "890   1.0         1.0  \n",
            "\n",
            "[891 rows x 11 columns]\n",
            "GridSearchCV(cv=3, estimator=RandomForestClassifier(),\n",
            "             param_grid=[{'max_depth': [None, 5, 10],\n",
            "                          'min_samples_split': [2, 3, 4],\n",
            "                          'n_estimators': [10, 100, 200, 500]}],\n",
            "             return_train_score=True, scoring='accuracy')\n",
            "RandomForestClassifier(max_depth=5)\n",
            "     PassengerId  Pclass                                          Name  \\\n",
            "0            892       3                              Kelly, Mr. James   \n",
            "1            893       3              Wilkes, Mrs. James (Ellen Needs)   \n",
            "2            894       2                     Myles, Mr. Thomas Francis   \n",
            "3            895       3                              Wirz, Mr. Albert   \n",
            "4            896       3  Hirvonen, Mrs. Alexander (Helga E Lindqvist)   \n",
            "..           ...     ...                                           ...   \n",
            "413         1305       3                            Spector, Mr. Woolf   \n",
            "414         1306       1                  Oliva y Ocana, Dona. Fermina   \n",
            "415         1307       3                  Saether, Mr. Simon Sivertsen   \n",
            "416         1308       3                           Ware, Mr. Frederick   \n",
            "417         1309       3                      Peter, Master. Michael J   \n",
            "\n",
            "        Sex   Age  SibSp  Parch              Ticket      Fare Cabin Embarked  \n",
            "0      male  34.5      0      0              330911    7.8292   NaN        Q  \n",
            "1    female  47.0      1      0              363272    7.0000   NaN        S  \n",
            "2      male  62.0      0      0              240276    9.6875   NaN        Q  \n",
            "3      male  27.0      0      0              315154    8.6625   NaN        S  \n",
            "4    female  22.0      1      1             3101298   12.2875   NaN        S  \n",
            "..      ...   ...    ...    ...                 ...       ...   ...      ...  \n",
            "413    male   NaN      0      0           A.5. 3236    8.0500   NaN        S  \n",
            "414  female  39.0      0      0            PC 17758  108.9000  C105        C  \n",
            "415    male  38.5      0      0  SOTON/O.Q. 3101262    7.2500   NaN        S  \n",
            "416    male   NaN      0      0              359309    8.0500   NaN        S  \n",
            "417    male   NaN      1      1                2668   22.3583   NaN        C  \n",
            "\n",
            "[418 rows x 11 columns]\n",
            "     PassengerId  Pclass       Age      Fare    C    S    Q  Female  Male  \\\n",
            "0            892       3  34.50000    7.8292  0.0  1.0  0.0     0.0   1.0   \n",
            "1            893       3  47.00000    7.0000  0.0  0.0  1.0     1.0   0.0   \n",
            "2            894       2  62.00000    9.6875  0.0  1.0  0.0     0.0   1.0   \n",
            "3            895       3  27.00000    8.6625  0.0  0.0  1.0     0.0   1.0   \n",
            "4            896       3  22.00000   12.2875  0.0  0.0  1.0     1.0   0.0   \n",
            "..           ...     ...       ...       ...  ...  ...  ...     ...   ...   \n",
            "413         1305       3  30.27259    8.0500  0.0  0.0  1.0     0.0   1.0   \n",
            "414         1306       1  39.00000  108.9000  1.0  0.0  0.0     1.0   0.0   \n",
            "415         1307       3  38.50000    7.2500  0.0  0.0  1.0     0.0   1.0   \n",
            "416         1308       3  30.27259    8.0500  0.0  0.0  1.0     0.0   1.0   \n",
            "417         1309       3  30.27259   22.3583  1.0  0.0  0.0     0.0   1.0   \n",
            "\n",
            "     FamilySize  \n",
            "0           1.0  \n",
            "1           2.0  \n",
            "2           1.0  \n",
            "3           1.0  \n",
            "4           3.0  \n",
            "..          ...  \n",
            "413         1.0  \n",
            "414         1.0  \n",
            "415         1.0  \n",
            "416         1.0  \n",
            "417         3.0  \n",
            "\n",
            "[418 rows x 10 columns]\n",
            "[0 0 0 0 1 0 1 0 1 0 0 0 1 0 1 1 0 0 1 1 0 0 1 0 1 0 1 0 0 0 0 0 1 1 0 0 1\n",
            " 1 0 0 0 0 0 1 1 0 0 0 1 1 0 0 1 1 0 0 0 0 0 1 0 0 0 1 0 1 1 0 0 1 1 0 1 0\n",
            " 1 0 0 1 0 1 1 0 0 0 0 0 1 1 1 1 1 0 1 0 0 0 1 0 1 0 1 0 0 0 1 0 0 0 0 0 0\n",
            " 1 1 1 1 0 0 1 0 1 1 0 1 0 0 1 0 1 0 0 0 0 0 0 0 0 0 0 1 0 0 1 0 0 0 0 0 0\n",
            " 0 0 1 0 0 1 0 0 1 1 0 1 1 1 1 0 0 1 0 0 1 0 0 0 0 0 0 1 1 0 1 1 0 0 1 0 1\n",
            " 0 1 0 0 0 0 0 0 0 1 0 1 1 0 1 1 1 0 1 0 0 1 0 1 0 0 0 0 1 0 0 1 0 1 0 1 0\n",
            " 1 0 1 1 0 1 0 0 0 1 0 0 0 0 0 0 1 1 1 1 0 0 0 0 1 0 1 1 1 0 0 0 0 0 0 0 1\n",
            " 0 0 0 1 1 0 0 0 0 1 0 0 0 1 1 0 1 0 0 0 0 0 1 1 1 1 0 0 0 0 0 0 1 0 0 0 0\n",
            " 1 0 0 0 0 0 0 0 1 1 0 1 0 0 0 0 0 0 1 1 0 0 0 0 0 0 0 0 1 0 1 0 0 0 1 0 0\n",
            " 1 0 0 0 0 0 0 0 0 0 1 0 1 0 1 0 1 1 0 0 0 1 0 1 0 0 1 0 1 1 0 1 0 0 1 1 0\n",
            " 0 1 0 0 1 1 0 0 0 0 0 0 1 1 0 1 0 0 0 0 0 1 0 0 0 1 0 1 0 0 1 0 1 0 0 0 0\n",
            " 0 1 1 1 1 1 0 1 0 0 0]\n",
            "     PassengerId  Survived\n",
            "0            892         0\n",
            "1            893         0\n",
            "2            894         0\n",
            "3            895         0\n",
            "4            896         1\n",
            "..           ...       ...\n",
            "413         1305         0\n",
            "414         1306         1\n",
            "415         1307         0\n",
            "416         1308         0\n",
            "417         1309         0\n",
            "\n",
            "[418 rows x 2 columns]\n"
          ]
        }
      ]
    },
    {
      "cell_type": "code",
      "source": [
        "from sklearn.tree import DecisionTreeClassifier\n",
        "from sklearn.model_selection import GridSearchCV\n",
        "\n",
        "# Define the classifier\n",
        "clf = DecisionTreeClassifier()\n",
        "\n",
        "# Define the parameter grid for hyperparameter tuning\n",
        "param_grid = [\n",
        "    {\"max_depth\": [None, 5, 10], \"min_samples_split\": [2, 3, 4]}\n",
        "]\n",
        "\n",
        "# Perform grid search cross-validation\n",
        "grid_search = GridSearchCV(clf, param_grid, cv=3, scoring=\"accuracy\", return_train_score=True)\n",
        "grid_search.fit(X_data, y_data)\n",
        "\n",
        "# Get the best estimator from grid search\n",
        "final_clf = grid_search.best_estimator_\n",
        "\n",
        "# Transform the test set using the pipeline\n",
        "X_test = strat_test_set.drop(['Survived'], axis=1)\n",
        "y_test = strat_test_set[\"Survived\"]\n",
        "\n",
        "# Scale the test data\n",
        "scaler = StandardScaler()\n",
        "X_data_test = scaler.fit_transform(X_test)\n",
        "y_data_test = y_test.to_numpy()\n",
        "\n",
        "# Get the accuracy of the final classifier on the test data\n",
        "print(final_clf.score(X_data_test, y_data_test))  # the accuracy score\n",
        "\n",
        "# Transform and scale the entire dataset for final training\n",
        "final_data = pipeline.fit_transform(titanic_data)\n",
        "X_final = final_data.drop(['Survived'], axis=1)\n",
        "y_final = final_data['Survived']\n",
        "\n",
        "scaler = StandardScaler()\n",
        "X_data_final = scaler.fit_transform(X_final)\n",
        "y_data_final = y_final.to_numpy()\n",
        "\n",
        "# Perform grid search cross-validation for the production classifier\n",
        "prod_clf = DecisionTreeClassifier()  # Use DecisionTreeClassifier for production\n",
        "\n",
        "param_grid = [\n",
        "    {\"max_depth\": [None, 5, 10], \"min_samples_split\": [2, 3, 4]}\n",
        "]\n",
        "\n",
        "grid_search = GridSearchCV(prod_clf, param_grid, cv=3, scoring=\"accuracy\", return_train_score=True)\n",
        "grid_search.fit(X_data_final, y_data_final)\n",
        "\n",
        "# Get the best estimator from grid search for production\n",
        "prod_final_clf = grid_search.best_estimator_\n",
        "\n",
        "# Load the test data\n",
        "titanic_test_data = pd.read_csv(\"test.csv\")\n",
        "\n",
        "# Transform and scale the test data using the pipeline\n",
        "final_test_data = pipeline.fit_transform(titanic_test_data)\n",
        "X_final_test = final_test_data\n",
        "X_final_test = X_final_test.fillna(method=\"ffill\")\n",
        "\n",
        "scaler = StandardScaler()\n",
        "X_data_final_test = scaler.fit_transform(X_final_test)\n",
        "\n",
        "# Make predictions using the production classifier\n",
        "predictions = prod_final_clf.predict(X_data_final_test)\n",
        "\n",
        "# Create a DataFrame with predictions and save it to a CSV file\n",
        "final_df = pd.DataFrame(titanic_test_data['PassengerId'])\n",
        "final_df['Survived'] = predictions\n",
        "final_df.to_csv(\"predictions2.csv\", index=False)\n",
        "\n",
        "print(final_df)\n"
      ],
      "metadata": {
        "colab": {
          "base_uri": "https://localhost:8080/"
        },
        "id": "qo_H107k3bBC",
        "outputId": "fc5b88f1-2cb9-4f9d-c4e8-101b135aee3e"
      },
      "execution_count": 93,
      "outputs": [
        {
          "output_type": "stream",
          "name": "stdout",
          "text": [
            "0.8595505617977528\n",
            "     PassengerId  Survived\n",
            "0            892         0\n",
            "1            893         0\n",
            "2            894         0\n",
            "3            895         0\n",
            "4            896         1\n",
            "..           ...       ...\n",
            "413         1305         0\n",
            "414         1306         1\n",
            "415         1307         0\n",
            "416         1308         0\n",
            "417         1309         0\n",
            "\n",
            "[418 rows x 2 columns]\n"
          ]
        }
      ]
    }
  ]
}